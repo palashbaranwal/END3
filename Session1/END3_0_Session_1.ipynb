{
  "nbformat": 4,
  "nbformat_minor": 0,
  "metadata": {
    "colab": {
      "name": "END3.0 Session 1.ipynb",
      "provenance": [],
      "collapsed_sections": [],
      "include_colab_link": true
    },
    "kernelspec": {
      "name": "python3",
      "display_name": "Python 3"
    },
    "language_info": {
      "name": "python"
    }
  },
  "cells": [
    {
      "cell_type": "markdown",
      "metadata": {
        "id": "view-in-github",
        "colab_type": "text"
      },
      "source": [
        "<a href=\"https://colab.research.google.com/github/palashbaranwal/END3/blob/main/Session1/END3_0_Session_1.ipynb\" target=\"_parent\"><img src=\"https://colab.research.google.com/assets/colab-badge.svg\" alt=\"Open In Colab\"/></a>"
      ]
    },
    {
      "cell_type": "code",
      "metadata": {
        "colab": {
          "base_uri": "https://localhost:8080/"
        },
        "id": "GC_6PeobwwkH",
        "outputId": "459eb8d5-0525-4cdd-9a9c-27ce4802eab8"
      },
      "source": [
        "import torch\n",
        "from torch.autograd import Variable\n",
        "import torch.nn as nn\n",
        "import torch.nn.functional as F\n",
        "import torch.optim as optim\n",
        "import numpy as np\n",
        "import matplotlib.pyplot as plt\n",
        "%matplotlib inline\n",
        "torch.manual_seed(2)"
      ],
      "execution_count": 2,
      "outputs": [
        {
          "output_type": "execute_result",
          "data": {
            "text/plain": [
              "<torch._C.Generator at 0x7ff76912ea50>"
            ]
          },
          "metadata": {},
          "execution_count": 2
        }
      ]
    },
    {
      "cell_type": "code",
      "metadata": {
        "id": "bL64bMTkw2GP"
      },
      "source": [
        "X = torch.Tensor([[0,0], [0,1], [1,0], [1,1]])\n",
        "Y = torch.Tensor([0, 1, 1, 0]).view(-1,1)"
      ],
      "execution_count": 3,
      "outputs": []
    },
    {
      "cell_type": "markdown",
      "metadata": {
        "id": "cV_EmwqcNMOq"
      },
      "source": [
        "## Approach 1 - Using 2 hidden layers"
      ]
    },
    {
      "cell_type": "code",
      "metadata": {
        "id": "aC82kEAIw3Wf"
      },
      "source": [
        "class XOR(nn.Module):\n",
        "    def __init__(self, input_dim = 2, output_dim=1):\n",
        "        super(XOR, self).__init__()\n",
        "\n",
        "        # Original - 1 hidden layer\n",
        "        # self.lin1 = nn.Linear(input_dim, 4)\n",
        "        # self.lin2 = nn.Linear(4, output_dim)\n",
        "\n",
        "        # Adding 2 hidden layers \n",
        "        self.lin1 = nn.Linear(input_dim, 5)\n",
        "        self.lin2 = nn.Linear(5, 4)\n",
        "        self.lin3 = nn.Linear(4, output_dim)\n",
        "\n",
        "\n",
        "\n",
        "\n",
        "    # Function for 1 layer    \n",
        "    # def forward(self, x):\n",
        "    #     x = self.lin1(x)\n",
        "    #     x = F.tanh(x)\n",
        "    #     x = self.lin2(x)\n",
        "    #     return x\n",
        "\n",
        "    # Function for 2 layers\n",
        "    def forward(self, x):\n",
        "        x = self.lin1(x)\n",
        "        x = F.tanh(x)\n",
        "        x = self.lin2(x)\n",
        "        x = F.tanh(x)\n",
        "        x = self.lin3(x)\n",
        "        return x\n"
      ],
      "execution_count": 12,
      "outputs": []
    },
    {
      "cell_type": "code",
      "metadata": {
        "colab": {
          "base_uri": "https://localhost:8080/"
        },
        "id": "8gQIQExYw65K",
        "outputId": "57b5779f-f99b-4e9e-e160-74b4622eee65"
      },
      "source": [
        "model = XOR()\n",
        "print(model)\n",
        "from torchsummary import summary\n",
        "summary(model, (2,2))"
      ],
      "execution_count": 5,
      "outputs": [
        {
          "output_type": "stream",
          "name": "stdout",
          "text": [
            "XOR(\n",
            "  (lin1): Linear(in_features=2, out_features=5, bias=True)\n",
            "  (lin2): Linear(in_features=5, out_features=4, bias=True)\n",
            "  (lin3): Linear(in_features=4, out_features=1, bias=True)\n",
            ")\n",
            "----------------------------------------------------------------\n",
            "        Layer (type)               Output Shape         Param #\n",
            "================================================================\n",
            "            Linear-1                 [-1, 2, 5]              15\n",
            "            Linear-2                 [-1, 2, 4]              24\n",
            "            Linear-3                 [-1, 2, 1]               5\n",
            "================================================================\n",
            "Total params: 44\n",
            "Trainable params: 44\n",
            "Non-trainable params: 0\n",
            "----------------------------------------------------------------\n",
            "Input size (MB): 0.00\n",
            "Forward/backward pass size (MB): 0.00\n",
            "Params size (MB): 0.00\n",
            "Estimated Total Size (MB): 0.00\n",
            "----------------------------------------------------------------\n"
          ]
        },
        {
          "output_type": "stream",
          "name": "stderr",
          "text": [
            "/usr/local/lib/python3.7/dist-packages/torch/nn/functional.py:1794: UserWarning: nn.functional.tanh is deprecated. Use torch.tanh instead.\n",
            "  warnings.warn(\"nn.functional.tanh is deprecated. Use torch.tanh instead.\")\n"
          ]
        }
      ]
    },
    {
      "cell_type": "code",
      "metadata": {
        "id": "yeotEq19x6XF"
      },
      "source": [
        "def weights_init(model):\n",
        "    for m in model.modules():\n",
        "        if isinstance(m, nn.Linear):\n",
        "            # initialize the weight tensor, here we use a normal distribution\n",
        "            m.weight.data.normal_(0, 1)\n",
        "\n",
        "weights_init(model)"
      ],
      "execution_count": 6,
      "outputs": []
    },
    {
      "cell_type": "code",
      "metadata": {
        "id": "WrD_sNzLx78e"
      },
      "source": [
        "loss_func = nn.L1Loss()"
      ],
      "execution_count": 7,
      "outputs": []
    },
    {
      "cell_type": "code",
      "metadata": {
        "id": "-zvbrMd2x_lA"
      },
      "source": [
        "optimizer = optim.SGD(model.parameters(), lr=0.02, momentum=0.9)\n"
      ],
      "execution_count": 8,
      "outputs": []
    },
    {
      "cell_type": "code",
      "metadata": {
        "colab": {
          "base_uri": "https://localhost:8080/"
        },
        "id": "q7tWa3D7yA5X",
        "outputId": "7933fa27-299f-4957-bf6f-2f49fc2960b4"
      },
      "source": [
        "epochs = 2001\n",
        "steps = X.size(0)\n",
        "for i in range(epochs):\n",
        "    for j in range(steps):\n",
        "        data_point = np.random.randint(X.size(0))\n",
        "        x_var = Variable(X[data_point], requires_grad=False)\n",
        "        y_var = Variable(Y[data_point], requires_grad=False)\n",
        "        \n",
        "        optimizer.zero_grad()\n",
        "        y_hat = model(x_var)\n",
        "        loss = loss_func.forward(y_hat, y_var)\n",
        "        loss.backward()\n",
        "        optimizer.step()\n",
        "        \n",
        "    if i % 50 == 0:\n",
        "        print( \"Epoch: {0}, Loss: {1}, \".format(i, loss.data.numpy()))"
      ],
      "execution_count": 9,
      "outputs": [
        {
          "output_type": "stream",
          "name": "stderr",
          "text": [
            "/usr/local/lib/python3.7/dist-packages/torch/nn/functional.py:1794: UserWarning: nn.functional.tanh is deprecated. Use torch.tanh instead.\n",
            "  warnings.warn(\"nn.functional.tanh is deprecated. Use torch.tanh instead.\")\n"
          ]
        },
        {
          "output_type": "stream",
          "name": "stdout",
          "text": [
            "Epoch: 0, Loss: 0.9093785285949707, \n",
            "Epoch: 50, Loss: 0.09487402439117432, \n",
            "Epoch: 100, Loss: 0.3980865478515625, \n",
            "Epoch: 150, Loss: 0.3666840195655823, \n",
            "Epoch: 200, Loss: 0.14769423007965088, \n",
            "Epoch: 250, Loss: 0.38084638118743896, \n",
            "Epoch: 300, Loss: 0.0318068265914917, \n",
            "Epoch: 350, Loss: 0.12357485294342041, \n",
            "Epoch: 400, Loss: 0.3529782295227051, \n",
            "Epoch: 450, Loss: 0.03052157163619995, \n",
            "Epoch: 500, Loss: 0.15462952852249146, \n",
            "Epoch: 550, Loss: 0.07966315746307373, \n",
            "Epoch: 600, Loss: 0.006948232650756836, \n",
            "Epoch: 650, Loss: 0.5236261487007141, \n",
            "Epoch: 700, Loss: 0.08615255355834961, \n",
            "Epoch: 750, Loss: 0.5770882964134216, \n",
            "Epoch: 800, Loss: 0.20139145851135254, \n",
            "Epoch: 850, Loss: 0.0062825679779052734, \n",
            "Epoch: 900, Loss: 0.11841440200805664, \n",
            "Epoch: 950, Loss: 0.2366577386856079, \n",
            "Epoch: 1000, Loss: 0.25928592681884766, \n",
            "Epoch: 1050, Loss: 0.804349422454834, \n",
            "Epoch: 1100, Loss: 0.23353397846221924, \n",
            "Epoch: 1150, Loss: 0.02608788013458252, \n",
            "Epoch: 1200, Loss: 0.4569212794303894, \n",
            "Epoch: 1250, Loss: 0.4609338045120239, \n",
            "Epoch: 1300, Loss: 0.19909298419952393, \n",
            "Epoch: 1350, Loss: 0.42124152183532715, \n",
            "Epoch: 1400, Loss: 0.028107881546020508, \n",
            "Epoch: 1450, Loss: 0.18455028533935547, \n",
            "Epoch: 1500, Loss: 0.06550371646881104, \n",
            "Epoch: 1550, Loss: 0.3360164165496826, \n",
            "Epoch: 1600, Loss: 0.2741386890411377, \n",
            "Epoch: 1650, Loss: 0.03550684452056885, \n",
            "Epoch: 1700, Loss: 0.7086763978004456, \n",
            "Epoch: 1750, Loss: 0.18216562271118164, \n",
            "Epoch: 1800, Loss: 0.4088292121887207, \n",
            "Epoch: 1850, Loss: 0.3679810166358948, \n",
            "Epoch: 1900, Loss: 0.10227537155151367, \n",
            "Epoch: 1950, Loss: 0.04128021001815796, \n",
            "Epoch: 2000, Loss: 0.04333460330963135, \n"
          ]
        }
      ]
    },
    {
      "cell_type": "markdown",
      "metadata": {
        "id": "aSQkP9iRN0Vh"
      },
      "source": [
        "#### Minimum loss with using two hidden layers - 0.006"
      ]
    },
    {
      "cell_type": "markdown",
      "metadata": {
        "id": "Q1fNzmnEQLPK"
      },
      "source": [
        "## Approach 2 - Using 3 hidden layers"
      ]
    },
    {
      "cell_type": "code",
      "metadata": {
        "id": "_F6PicgNQOJt"
      },
      "source": [
        "class XOR(nn.Module):\n",
        "    def __init__(self, input_dim = 2, output_dim=1):\n",
        "        super(XOR, self).__init__()\n",
        "\n",
        "\n",
        "        # Adding 3 hidden layers \n",
        "        self.lin1 = nn.Linear(input_dim, 3)\n",
        "        self.lin2 = nn.Linear(3, 4)\n",
        "        self.lin3 = nn.Linear(4, 3)\n",
        "        self.lin4 = nn.Linear(3, output_dim)\n",
        "\n",
        "\n",
        "    # Function for 3 layers\n",
        "    def forward(self, x):\n",
        "        x = self.lin1(x)\n",
        "        x = F.tanh(x)\n",
        "        x = self.lin2(x)\n",
        "        x = F.tanh(x)\n",
        "        x = self.lin3(x)\n",
        "        x = F.tanh(x)\n",
        "        x = self.lin4(x)\n",
        "        return x"
      ],
      "execution_count": 13,
      "outputs": []
    },
    {
      "cell_type": "code",
      "metadata": {
        "colab": {
          "base_uri": "https://localhost:8080/"
        },
        "id": "qeYuIt9SQVod",
        "outputId": "8b20b234-4d8a-4a13-974c-360c8dc0f211"
      },
      "source": [
        "model = XOR()\n",
        "print(model)\n",
        "from torchsummary import summary\n",
        "summary(model, (2,2))"
      ],
      "execution_count": 14,
      "outputs": [
        {
          "output_type": "stream",
          "name": "stdout",
          "text": [
            "XOR(\n",
            "  (lin1): Linear(in_features=2, out_features=3, bias=True)\n",
            "  (lin2): Linear(in_features=3, out_features=4, bias=True)\n",
            "  (lin3): Linear(in_features=4, out_features=3, bias=True)\n",
            "  (lin4): Linear(in_features=3, out_features=1, bias=True)\n",
            ")\n",
            "----------------------------------------------------------------\n",
            "        Layer (type)               Output Shape         Param #\n",
            "================================================================\n",
            "            Linear-1                 [-1, 2, 3]               9\n",
            "            Linear-2                 [-1, 2, 4]              16\n",
            "            Linear-3                 [-1, 2, 3]              15\n",
            "            Linear-4                 [-1, 2, 1]               4\n",
            "================================================================\n",
            "Total params: 44\n",
            "Trainable params: 44\n",
            "Non-trainable params: 0\n",
            "----------------------------------------------------------------\n",
            "Input size (MB): 0.00\n",
            "Forward/backward pass size (MB): 0.00\n",
            "Params size (MB): 0.00\n",
            "Estimated Total Size (MB): 0.00\n",
            "----------------------------------------------------------------\n"
          ]
        },
        {
          "output_type": "stream",
          "name": "stderr",
          "text": [
            "/usr/local/lib/python3.7/dist-packages/torch/nn/functional.py:1794: UserWarning: nn.functional.tanh is deprecated. Use torch.tanh instead.\n",
            "  warnings.warn(\"nn.functional.tanh is deprecated. Use torch.tanh instead.\")\n"
          ]
        }
      ]
    },
    {
      "cell_type": "code",
      "metadata": {
        "colab": {
          "base_uri": "https://localhost:8080/"
        },
        "id": "Z0Bf_pqGQZ95",
        "outputId": "fa84e356-bbec-4c76-fc23-08471b99b0e1"
      },
      "source": [
        "def weights_init(model):\n",
        "    for m in model.modules():\n",
        "        if isinstance(m, nn.Linear):\n",
        "            # initialize the weight tensor, here we use a normal distribution\n",
        "            m.weight.data.normal_(0, 1)\n",
        "\n",
        "weights_init(model)\n",
        "\n",
        "loss_func = nn.L1Loss()\n",
        "\n",
        "optimizer = optim.SGD(model.parameters(), lr=0.02, momentum=0.9)\n",
        "\n",
        "epochs = 2001\n",
        "steps = X.size(0)\n",
        "for i in range(epochs):\n",
        "    for j in range(steps):\n",
        "        data_point = np.random.randint(X.size(0))\n",
        "        x_var = Variable(X[data_point], requires_grad=False)\n",
        "        y_var = Variable(Y[data_point], requires_grad=False)\n",
        "        \n",
        "        optimizer.zero_grad()\n",
        "        y_hat = model(x_var)\n",
        "        loss = loss_func.forward(y_hat, y_var)\n",
        "        loss.backward()\n",
        "        optimizer.step()\n",
        "        \n",
        "    if i % 50 == 0:\n",
        "        print( \"Epoch: {0}, Loss: {1}, \".format(i, loss.data.numpy()))"
      ],
      "execution_count": 15,
      "outputs": [
        {
          "output_type": "stream",
          "name": "stderr",
          "text": [
            "/usr/local/lib/python3.7/dist-packages/torch/nn/functional.py:1794: UserWarning: nn.functional.tanh is deprecated. Use torch.tanh instead.\n",
            "  warnings.warn(\"nn.functional.tanh is deprecated. Use torch.tanh instead.\")\n"
          ]
        },
        {
          "output_type": "stream",
          "name": "stdout",
          "text": [
            "Epoch: 0, Loss: 1.3355491161346436, \n",
            "Epoch: 50, Loss: 0.3764027953147888, \n",
            "Epoch: 100, Loss: 0.8918778896331787, \n",
            "Epoch: 150, Loss: 0.07155261188745499, \n",
            "Epoch: 200, Loss: 0.06250035762786865, \n",
            "Epoch: 250, Loss: 0.11484183371067047, \n",
            "Epoch: 300, Loss: 1.1093958616256714, \n",
            "Epoch: 350, Loss: 0.04121732711791992, \n",
            "Epoch: 400, Loss: 0.058349572122097015, \n",
            "Epoch: 450, Loss: 0.03380393981933594, \n",
            "Epoch: 500, Loss: 0.0994957685470581, \n",
            "Epoch: 550, Loss: 0.2457265853881836, \n",
            "Epoch: 600, Loss: 0.39460310339927673, \n",
            "Epoch: 650, Loss: 0.25929462909698486, \n",
            "Epoch: 700, Loss: 0.12890112400054932, \n",
            "Epoch: 750, Loss: 0.3513137102127075, \n",
            "Epoch: 800, Loss: 0.06599462032318115, \n",
            "Epoch: 850, Loss: 0.12346047163009644, \n",
            "Epoch: 900, Loss: 0.15405213832855225, \n",
            "Epoch: 950, Loss: 0.037689872086048126, \n",
            "Epoch: 1000, Loss: 0.008130908012390137, \n",
            "Epoch: 1050, Loss: 0.02188873291015625, \n",
            "Epoch: 1100, Loss: 0.28697168827056885, \n",
            "Epoch: 1150, Loss: 0.1424119472503662, \n",
            "Epoch: 1200, Loss: 0.5771054029464722, \n",
            "Epoch: 1250, Loss: 0.008358299732208252, \n",
            "Epoch: 1300, Loss: 0.21149682998657227, \n",
            "Epoch: 1350, Loss: 0.02109551429748535, \n",
            "Epoch: 1400, Loss: 0.44176459312438965, \n",
            "Epoch: 1450, Loss: 0.23200538754463196, \n",
            "Epoch: 1500, Loss: 0.019429683685302734, \n",
            "Epoch: 1550, Loss: 0.06814146041870117, \n",
            "Epoch: 1600, Loss: 0.016071557998657227, \n",
            "Epoch: 1650, Loss: 0.4044479429721832, \n",
            "Epoch: 1700, Loss: 0.1210935115814209, \n",
            "Epoch: 1750, Loss: 0.22710204124450684, \n",
            "Epoch: 1800, Loss: 0.22190392017364502, \n",
            "Epoch: 1850, Loss: 0.36079347133636475, \n",
            "Epoch: 1900, Loss: 0.3558497428894043, \n",
            "Epoch: 1950, Loss: 0.01763737201690674, \n",
            "Epoch: 2000, Loss: 0.2311062514781952, \n"
          ]
        }
      ]
    },
    {
      "cell_type": "markdown",
      "metadata": {
        "id": "yoycI-EzQ0UN"
      },
      "source": [
        "#### Minimum loss with using three hidden layers - 0.008"
      ]
    },
    {
      "cell_type": "markdown",
      "metadata": {
        "id": "ZAPZgh7uQ-SX"
      },
      "source": [
        "## Approach 3 - Using 4 hidden layers"
      ]
    },
    {
      "cell_type": "code",
      "metadata": {
        "id": "CzBWEiZLQ_ni"
      },
      "source": [
        "class XOR(nn.Module):\n",
        "    def __init__(self, input_dim = 2, output_dim=1):\n",
        "        super(XOR, self).__init__()\n",
        "\n",
        "\n",
        "        # Adding 3 hidden layers \n",
        "        self.lin1 = nn.Linear(input_dim, 4)\n",
        "        self.lin2 = nn.Linear(4, 3)\n",
        "        self.lin3 = nn.Linear(3, 2)\n",
        "        self.lin4 = nn.Linear(2, 2)\n",
        "        self.lin5 = nn.Linear(2, output_dim)\n",
        "\n",
        "\n",
        "    # Function for 3 layers\n",
        "    def forward(self, x):\n",
        "        x = self.lin1(x)\n",
        "        x = F.tanh(x)\n",
        "        x = self.lin2(x)\n",
        "        x = F.tanh(x)\n",
        "        x = self.lin3(x)\n",
        "        x = F.tanh(x)\n",
        "        x = self.lin4(x)\n",
        "        x = F.tanh(x)\n",
        "        x = self.lin5(x)\n",
        "        return x"
      ],
      "execution_count": 16,
      "outputs": []
    },
    {
      "cell_type": "code",
      "metadata": {
        "colab": {
          "base_uri": "https://localhost:8080/"
        },
        "id": "fNq8TRsDRaKZ",
        "outputId": "a54954b1-2c52-4752-ffed-ffcd6b251cb9"
      },
      "source": [
        "model = XOR()\n",
        "print(model)\n",
        "from torchsummary import summary\n",
        "summary(model, (2,2))"
      ],
      "execution_count": 17,
      "outputs": [
        {
          "output_type": "stream",
          "name": "stdout",
          "text": [
            "XOR(\n",
            "  (lin1): Linear(in_features=2, out_features=4, bias=True)\n",
            "  (lin2): Linear(in_features=4, out_features=3, bias=True)\n",
            "  (lin3): Linear(in_features=3, out_features=2, bias=True)\n",
            "  (lin4): Linear(in_features=2, out_features=2, bias=True)\n",
            "  (lin5): Linear(in_features=2, out_features=1, bias=True)\n",
            ")\n",
            "----------------------------------------------------------------\n",
            "        Layer (type)               Output Shape         Param #\n",
            "================================================================\n",
            "            Linear-1                 [-1, 2, 4]              12\n",
            "            Linear-2                 [-1, 2, 3]              15\n",
            "            Linear-3                 [-1, 2, 2]               8\n",
            "            Linear-4                 [-1, 2, 2]               6\n",
            "            Linear-5                 [-1, 2, 1]               3\n",
            "================================================================\n",
            "Total params: 44\n",
            "Trainable params: 44\n",
            "Non-trainable params: 0\n",
            "----------------------------------------------------------------\n",
            "Input size (MB): 0.00\n",
            "Forward/backward pass size (MB): 0.00\n",
            "Params size (MB): 0.00\n",
            "Estimated Total Size (MB): 0.00\n",
            "----------------------------------------------------------------\n"
          ]
        },
        {
          "output_type": "stream",
          "name": "stderr",
          "text": [
            "/usr/local/lib/python3.7/dist-packages/torch/nn/functional.py:1794: UserWarning: nn.functional.tanh is deprecated. Use torch.tanh instead.\n",
            "  warnings.warn(\"nn.functional.tanh is deprecated. Use torch.tanh instead.\")\n"
          ]
        }
      ]
    },
    {
      "cell_type": "code",
      "metadata": {
        "colab": {
          "base_uri": "https://localhost:8080/"
        },
        "id": "XyEQDNcAReTb",
        "outputId": "9bb82021-0d6f-422b-8eb2-49a9e4c18e4e"
      },
      "source": [
        "def weights_init(model):\n",
        "    for m in model.modules():\n",
        "        if isinstance(m, nn.Linear):\n",
        "            # initialize the weight tensor, here we use a normal distribution\n",
        "            m.weight.data.normal_(0, 1)\n",
        "\n",
        "weights_init(model)\n",
        "\n",
        "loss_func = nn.L1Loss()\n",
        "\n",
        "optimizer = optim.SGD(model.parameters(), lr=0.02, momentum=0.9)\n",
        "\n",
        "epochs = 2001\n",
        "steps = X.size(0)\n",
        "for i in range(epochs):\n",
        "    for j in range(steps):\n",
        "        data_point = np.random.randint(X.size(0))\n",
        "        x_var = Variable(X[data_point], requires_grad=False)\n",
        "        y_var = Variable(Y[data_point], requires_grad=False)\n",
        "        \n",
        "        optimizer.zero_grad()\n",
        "        y_hat = model(x_var)\n",
        "        loss = loss_func.forward(y_hat, y_var)\n",
        "        loss.backward()\n",
        "        optimizer.step()\n",
        "        \n",
        "    if i % 50 == 0:\n",
        "        print( \"Epoch: {0}, Loss: {1}, \".format(i, loss.data.numpy()))"
      ],
      "execution_count": 18,
      "outputs": [
        {
          "output_type": "stream",
          "name": "stderr",
          "text": [
            "/usr/local/lib/python3.7/dist-packages/torch/nn/functional.py:1794: UserWarning: nn.functional.tanh is deprecated. Use torch.tanh instead.\n",
            "  warnings.warn(\"nn.functional.tanh is deprecated. Use torch.tanh instead.\")\n"
          ]
        },
        {
          "output_type": "stream",
          "name": "stdout",
          "text": [
            "Epoch: 0, Loss: 0.8226046562194824, \n",
            "Epoch: 50, Loss: 0.5842119455337524, \n",
            "Epoch: 100, Loss: 0.04958176612854004, \n",
            "Epoch: 150, Loss: 0.3335082530975342, \n",
            "Epoch: 200, Loss: 0.17297077178955078, \n",
            "Epoch: 250, Loss: 0.10417020320892334, \n",
            "Epoch: 300, Loss: 0.16007429361343384, \n",
            "Epoch: 350, Loss: 0.7077717781066895, \n",
            "Epoch: 400, Loss: 0.01447838544845581, \n",
            "Epoch: 450, Loss: 0.05831789970397949, \n",
            "Epoch: 500, Loss: 0.02716648578643799, \n",
            "Epoch: 550, Loss: 0.14327159523963928, \n",
            "Epoch: 600, Loss: 0.01642906665802002, \n",
            "Epoch: 650, Loss: 0.19251680374145508, \n",
            "Epoch: 700, Loss: 0.11338669061660767, \n",
            "Epoch: 750, Loss: 0.044954657554626465, \n",
            "Epoch: 800, Loss: 0.17984923720359802, \n",
            "Epoch: 850, Loss: 0.33868101239204407, \n",
            "Epoch: 900, Loss: 0.17714345455169678, \n",
            "Epoch: 950, Loss: 0.1318574845790863, \n",
            "Epoch: 1000, Loss: 0.024078369140625, \n",
            "Epoch: 1050, Loss: 0.14690136909484863, \n",
            "Epoch: 1100, Loss: 0.11741757392883301, \n",
            "Epoch: 1150, Loss: 0.12681329250335693, \n",
            "Epoch: 1200, Loss: 0.013190597295761108, \n",
            "Epoch: 1250, Loss: 0.044614553451538086, \n",
            "Epoch: 1300, Loss: 0.18565702438354492, \n",
            "Epoch: 1350, Loss: 0.0659332275390625, \n",
            "Epoch: 1400, Loss: 0.28106367588043213, \n",
            "Epoch: 1450, Loss: 0.04546523094177246, \n",
            "Epoch: 1500, Loss: 0.0052831172943115234, \n",
            "Epoch: 1550, Loss: 0.019552111625671387, \n",
            "Epoch: 1600, Loss: 0.015761494636535645, \n",
            "Epoch: 1650, Loss: 0.10529524087905884, \n",
            "Epoch: 1700, Loss: 0.012889981269836426, \n",
            "Epoch: 1750, Loss: 0.035063862800598145, \n",
            "Epoch: 1800, Loss: 0.009927034378051758, \n",
            "Epoch: 1850, Loss: 0.21157574653625488, \n",
            "Epoch: 1900, Loss: 0.004076659679412842, \n",
            "Epoch: 1950, Loss: 0.14994341135025024, \n",
            "Epoch: 2000, Loss: 0.14236420392990112, \n"
          ]
        }
      ]
    },
    {
      "cell_type": "markdown",
      "metadata": {
        "id": "F2jSDFunRpru"
      },
      "source": [
        "#### Minimum loss with using three hidden layers - 0.004"
      ]
    },
    {
      "cell_type": "code",
      "metadata": {
        "id": "PEwM7srJRr8h"
      },
      "source": [
        ""
      ],
      "execution_count": null,
      "outputs": []
    }
  ]
}